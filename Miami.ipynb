{
 "cells": [
  {
   "cell_type": "code",
   "execution_count": 26,
   "metadata": {},
   "outputs": [
    {
     "name": "stdout",
     "output_type": "stream",
     "text": [
      "Libraries imported.\n"
     ]
    }
   ],
   "source": [
    "import numpy as np # library to handle data in a vectorized manner\n",
    "import time\n",
    "import pandas as pd # library for data analsysis\n",
    "pd.set_option('display.max_columns', None)\n",
    "pd.set_option('display.max_rows', None)\n",
    "\n",
    "import json # library to handle JSON files\n",
    "import requests # library to handle requests\n",
    "from pandas.io.json import json_normalize # tranform JSON file into a pandas dataframe\n",
    "\n",
    "from geopy.geocoders import Nominatim # convert an address into latitude and longitude values\n",
    "\n",
    "import folium # map rendering library\n",
    "\n",
    "print('Libraries imported.')"
   ]
  },
  {
   "cell_type": "code",
   "execution_count": 27,
   "metadata": {},
   "outputs": [
    {
     "name": "stderr",
     "output_type": "stream",
     "text": [
      "C:\\Users\\Juan Raul Garcia\\Anaconda3\\lib\\site-packages\\ipykernel_launcher.py:3: DeprecationWarning: Using Nominatim with the default \"geopy/1.20.0\" `user_agent` is strongly discouraged, as it violates Nominatim's ToS https://operations.osmfoundation.org/policies/nominatim/ and may possibly cause 403 and 429 HTTP errors. Please specify a custom `user_agent` with `Nominatim(user_agent=\"my-application\")` or by overriding the default `user_agent`: `geopy.geocoders.options.default_user_agent = \"my-application\"`. In geopy 2.0 this will become an exception.\n",
      "  This is separate from the ipykernel package so we can avoid doing imports until\n"
     ]
    },
    {
     "name": "stdout",
     "output_type": "stream",
     "text": [
      "The geograpical coordinate of Miami home are 25.6792695, -80.3172743.\n"
     ]
    }
   ],
   "source": [
    "# Shenton Way, District 01, Singapore\n",
    "address = 'kendall, miami'\n",
    "geolocator = Nominatim()\n",
    "location = geolocator.geocode(address)\n",
    "latitude = location.latitude\n",
    "longitude = location.longitude\n",
    "print('The geograpical coordinate of Miami home are {}, {}.'.format(latitude, longitude))"
   ]
  },
  {
   "cell_type": "code",
   "execution_count": 28,
   "metadata": {},
   "outputs": [],
   "source": [
    "neighborhood_latitude=25.6792695\n",
    "neighborhood_longitude= -80.3172743"
   ]
  },
  {
   "cell_type": "code",
   "execution_count": 29,
   "metadata": {},
   "outputs": [
    {
     "name": "stdout",
     "output_type": "stream",
     "text": [
      "Your credentails:\n",
      "CLIENT_ID: 54GU41KXZPLVE2IUFD2TSPOJVTLCROC1VTWAEYK3YEKIBYU5\n",
      "CLIENT_SECRET:P2DVHDL0WHSWNSZHSWKJBEBZXRROKWDO2APFCQWQ1CJMFJMG\n"
     ]
    }
   ],
   "source": [
    "CLIENT_ID = '54GU41KXZPLVE2IUFD2TSPOJVTLCROC1VTWAEYK3YEKIBYU5' # your Foursquare ID\n",
    "CLIENT_SECRET = 'P2DVHDL0WHSWNSZHSWKJBEBZXRROKWDO2APFCQWQ1CJMFJMG' # your Foursquare Secret\n",
    "VERSION = '20180604'\n",
    "LIMIT = 30\n",
    "print('Your credentails:')\n",
    "print('CLIENT_ID: ' + CLIENT_ID)\n",
    "print('CLIENT_SECRET:' + CLIENT_SECRET)"
   ]
  },
  {
   "cell_type": "code",
   "execution_count": 30,
   "metadata": {},
   "outputs": [
    {
     "data": {
      "text/plain": [
       "'https://api.foursquare.com/v2/venues/explore?&client_id=54GU41KXZPLVE2IUFD2TSPOJVTLCROC1VTWAEYK3YEKIBYU5&client_secret=P2DVHDL0WHSWNSZHSWKJBEBZXRROKWDO2APFCQWQ1CJMFJMG&v=20180604&ll=25.6792695,-80.3172743&radius=500&limit=100'"
      ]
     },
     "execution_count": 30,
     "metadata": {},
     "output_type": "execute_result"
    }
   ],
   "source": [
    "LIMIT = 100 # limit of number of venues returned by Foursquare API\n",
    "radius = 500 # define radius\n",
    "# create URL\n",
    "url = 'https://api.foursquare.com/v2/venues/explore?&client_id={}&client_secret={}&v={}&ll={},{}&radius={}&limit={}'.format(\n",
    "    CLIENT_ID, \n",
    "    CLIENT_SECRET, \n",
    "    VERSION, \n",
    "    neighborhood_latitude, \n",
    "    neighborhood_longitude, \n",
    "    radius, \n",
    "    LIMIT)\n",
    "url # display URL"
   ]
  },
  {
   "cell_type": "code",
   "execution_count": 31,
   "metadata": {},
   "outputs": [],
   "source": [
    "# results display is hidden for report simplification \n",
    "results = requests.get(url).json()\n",
    "#results"
   ]
  },
  {
   "cell_type": "code",
   "execution_count": 13,
   "metadata": {},
   "outputs": [],
   "source": [
    "def get_category_type(row):\n",
    "    try:\n",
    "        categories_list = row['categories']\n",
    "    except:\n",
    "        categories_list = row['venue.categories']\n",
    "        \n",
    "    if len(categories_list) == 0:\n",
    "        return None\n",
    "    else:\n",
    "        return categories_list[0]['name']"
   ]
  },
  {
   "cell_type": "code",
   "execution_count": 32,
   "metadata": {},
   "outputs": [
    {
     "data": {
      "text/plain": [
       "(22, 4)"
      ]
     },
     "execution_count": 32,
     "metadata": {},
     "output_type": "execute_result"
    }
   ],
   "source": [
    "venues = results['response']['groups'][0]['items']\n",
    "SGnearby_venues = json_normalize(venues) # flatten JSON\n",
    "# filter columns\n",
    "filtered_columns = ['venue.name', 'venue.categories', 'venue.location.lat', 'venue.location.lng']\n",
    "SGnearby_venues =SGnearby_venues.loc[:, filtered_columns]\n",
    "# filter the category for each row\n",
    "SGnearby_venues['venue.categories'] = SGnearby_venues.apply(get_category_type, axis=1)\n",
    "# clean columns\n",
    "SGnearby_venues.columns = [col.split(\".\")[-1] for col in SGnearby_venues.columns]\n",
    "\n",
    "SGnearby_venues.shape"
   ]
  },
  {
   "cell_type": "code",
   "execution_count": 33,
   "metadata": {},
   "outputs": [
    {
     "data": {
      "text/html": [
       "<div>\n",
       "<style scoped>\n",
       "    .dataframe tbody tr th:only-of-type {\n",
       "        vertical-align: middle;\n",
       "    }\n",
       "\n",
       "    .dataframe tbody tr th {\n",
       "        vertical-align: top;\n",
       "    }\n",
       "\n",
       "    .dataframe thead th {\n",
       "        text-align: right;\n",
       "    }\n",
       "</style>\n",
       "<table border=\"1\" class=\"dataframe\">\n",
       "  <thead>\n",
       "    <tr style=\"text-align: right;\">\n",
       "      <th></th>\n",
       "      <th>name</th>\n",
       "      <th>categories</th>\n",
       "      <th>lat</th>\n",
       "      <th>lng</th>\n",
       "    </tr>\n",
       "  </thead>\n",
       "  <tbody>\n",
       "    <tr>\n",
       "      <td>0</td>\n",
       "      <td>Captain's Tavern</td>\n",
       "      <td>Seafood Restaurant</td>\n",
       "      <td>25.680272</td>\n",
       "      <td>-80.315870</td>\n",
       "    </tr>\n",
       "    <tr>\n",
       "      <td>1</td>\n",
       "      <td>Cao Chocolates</td>\n",
       "      <td>Dessert Shop</td>\n",
       "      <td>25.679126</td>\n",
       "      <td>-80.318577</td>\n",
       "    </tr>\n",
       "    <tr>\n",
       "      <td>2</td>\n",
       "      <td>The Original Crab House</td>\n",
       "      <td>Seafood Restaurant</td>\n",
       "      <td>25.680261</td>\n",
       "      <td>-80.318687</td>\n",
       "    </tr>\n",
       "    <tr>\n",
       "      <td>3</td>\n",
       "      <td>Soccer Locker</td>\n",
       "      <td>Sporting Goods Shop</td>\n",
       "      <td>25.681310</td>\n",
       "      <td>-80.315378</td>\n",
       "    </tr>\n",
       "    <tr>\n",
       "      <td>4</td>\n",
       "      <td>Shiraz Kabab Cafe &amp; Food Market</td>\n",
       "      <td>Mediterranean Restaurant</td>\n",
       "      <td>25.680385</td>\n",
       "      <td>-80.318860</td>\n",
       "    </tr>\n",
       "  </tbody>\n",
       "</table>\n",
       "</div>"
      ],
      "text/plain": [
       "                              name                categories        lat  \\\n",
       "0                 Captain's Tavern        Seafood Restaurant  25.680272   \n",
       "1                   Cao Chocolates              Dessert Shop  25.679126   \n",
       "2          The Original Crab House        Seafood Restaurant  25.680261   \n",
       "3                    Soccer Locker       Sporting Goods Shop  25.681310   \n",
       "4  Shiraz Kabab Cafe & Food Market  Mediterranean Restaurant  25.680385   \n",
       "\n",
       "         lng  \n",
       "0 -80.315870  \n",
       "1 -80.318577  \n",
       "2 -80.318687  \n",
       "3 -80.315378  \n",
       "4 -80.318860  "
      ]
     },
     "execution_count": 33,
     "metadata": {},
     "output_type": "execute_result"
    }
   ],
   "source": [
    "# Venues near current Singapore residence place\n",
    "SGnearby_venues.head()"
   ]
  },
  {
   "cell_type": "code",
   "execution_count": 34,
   "metadata": {},
   "outputs": [],
   "source": [
    "latitude=25.6792695\n",
    "longitude= -80.3172743\n",
    "# create map of Singapore place  using latitude and longitude values\n",
    "map_sg = folium.Map(location=[latitude, longitude], zoom_start=18)"
   ]
  },
  {
   "cell_type": "code",
   "execution_count": 35,
   "metadata": {},
   "outputs": [
    {
     "data": {
      "text/html": [
       "<div style=\"width:100%;\"><div style=\"position:relative;width:100%;height:0;padding-bottom:60%;\"><iframe src=\"data:text/html;charset=utf-8;base64,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\" style=\"position:absolute;width:100%;height:100%;left:0;top:0;border:none !important;\" allowfullscreen webkitallowfullscreen mozallowfullscreen></iframe></div></div>"
      ],
      "text/plain": [
       "<folium.folium.Map at 0x2289b9192b0>"
      ]
     },
     "execution_count": 35,
     "metadata": {},
     "output_type": "execute_result"
    }
   ],
   "source": [
    "#add markers to map\n",
    "for lat, lng, label in zip(SGnearby_venues['lat'], SGnearby_venues['lng'], SGnearby_venues['name']):\n",
    "    label = folium.Popup(label, parse_html=True)\n",
    "    folium.RegularPolygonMarker(\n",
    "        [lat, lng],\n",
    "        number_of_sides=30,\n",
    "        radius=7,\n",
    "        popup=label,\n",
    "        color='blue',\n",
    "        fill_color='#0f0f0f',\n",
    "        fill_opacity=0.6,\n",
    "    ).add_to(map_sg)  \n",
    "    \n",
    "map_sg"
   ]
  },
  {
   "cell_type": "code",
   "execution_count": null,
   "metadata": {},
   "outputs": [],
   "source": []
  }
 ],
 "metadata": {
  "kernelspec": {
   "display_name": "Python 3",
   "language": "python",
   "name": "python3"
  },
  "language_info": {
   "codemirror_mode": {
    "name": "ipython",
    "version": 3
   },
   "file_extension": ".py",
   "mimetype": "text/x-python",
   "name": "python",
   "nbconvert_exporter": "python",
   "pygments_lexer": "ipython3",
   "version": "3.7.3"
  }
 },
 "nbformat": 4,
 "nbformat_minor": 2
}
