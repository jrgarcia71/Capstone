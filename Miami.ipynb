{
 "cells": [
  {
   "cell_type": "code",
   "execution_count": 57,
   "metadata": {},
   "outputs": [
    {
     "name": "stdout",
     "output_type": "stream",
     "text": [
      "Libraries imported.\n"
     ]
    }
   ],
   "source": [
    "import numpy as np # library to handle data in a vectorized manner\n",
    "import time\n",
    "import pandas as pd # library for data analsysis\n",
    "pd.set_option('display.max_columns', None)\n",
    "pd.set_option('display.max_rows', None)\n",
    "\n",
    "import json # library to handle JSON files\n",
    "import requests # library to handle requests\n",
    "from pandas.io.json import json_normalize # tranform JSON file into a pandas dataframe\n",
    "\n",
    "from geopy.geocoders import Nominatim # convert an address into latitude and longitude values\n",
    "\n",
    "import folium # map rendering library\n",
    "\n",
    "print('Libraries imported.')"
   ]
  },
  {
   "cell_type": "code",
   "execution_count": 58,
   "metadata": {},
   "outputs": [
    {
     "name": "stderr",
     "output_type": "stream",
     "text": [
      "C:\\Users\\Juan Raul Garcia\\Anaconda3\\lib\\site-packages\\ipykernel_launcher.py:3: DeprecationWarning: Using Nominatim with the default \"geopy/1.20.0\" `user_agent` is strongly discouraged, as it violates Nominatim's ToS https://operations.osmfoundation.org/policies/nominatim/ and may possibly cause 403 and 429 HTTP errors. Please specify a custom `user_agent` with `Nominatim(user_agent=\"my-application\")` or by overriding the default `user_agent`: `geopy.geocoders.options.default_user_agent = \"my-application\"`. In geopy 2.0 this will become an exception.\n",
      "  This is separate from the ipykernel package so we can avoid doing imports until\n"
     ]
    },
    {
     "name": "stdout",
     "output_type": "stream",
     "text": [
      "The geograpical coordinate of Miami home are -34.881491, -56.0571252.\n"
     ]
    }
   ],
   "source": [
    "# Shenton Way, District 01, Singapore\n",
    "address = '16545 sw ,miami'\n",
    "geolocator = Nominatim()\n",
    "location = geolocator.geocode(address)\n",
    "latitude = location.latitude\n",
    "longitude = location.longitude\n",
    "print('The geograpical coordinate of Miami home are {}, {}.'.format(latitude, longitude))"
   ]
  },
  {
   "cell_type": "code",
   "execution_count": 43,
   "metadata": {},
   "outputs": [],
   "source": [
    "neighborhood_latitude= 25.7467796\n",
    "neighborhood_longitude= -80.35791434083172"
   ]
  },
  {
   "cell_type": "code",
   "execution_count": 59,
   "metadata": {},
   "outputs": [
    {
     "name": "stdout",
     "output_type": "stream",
     "text": [
      "Your credentails:\n",
      "CLIENT_ID: 54GU41KXZPLVE2IUFD2TSPOJVTLCROC1VTWAEYK3YEKIBYU5\n",
      "CLIENT_SECRET:P2DVHDL0WHSWNSZHSWKJBEBZXRROKWDO2APFCQWQ1CJMFJMG\n"
     ]
    }
   ],
   "source": [
    "CLIENT_ID = '54GU41KXZPLVE2IUFD2TSPOJVTLCROC1VTWAEYK3YEKIBYU5' # your Foursquare ID\n",
    "CLIENT_SECRET = 'P2DVHDL0WHSWNSZHSWKJBEBZXRROKWDO2APFCQWQ1CJMFJMG' # your Foursquare Secret\n",
    "VERSION = '20180604'\n",
    "LIMIT = 30\n",
    "print('Your credentails:')\n",
    "print('CLIENT_ID: ' + CLIENT_ID)\n",
    "print('CLIENT_SECRET:' + CLIENT_SECRET)"
   ]
  },
  {
   "cell_type": "code",
   "execution_count": 60,
   "metadata": {},
   "outputs": [
    {
     "data": {
      "text/plain": [
       "'https://api.foursquare.com/v2/venues/explore?&client_id=54GU41KXZPLVE2IUFD2TSPOJVTLCROC1VTWAEYK3YEKIBYU5&client_secret=P2DVHDL0WHSWNSZHSWKJBEBZXRROKWDO2APFCQWQ1CJMFJMG&v=20180604&ll=48.7467796,2.35791434083172&radius=500&limit=100'"
      ]
     },
     "execution_count": 60,
     "metadata": {},
     "output_type": "execute_result"
    }
   ],
   "source": [
    "LIMIT = 100 # limit of number of venues returned by Foursquare API\n",
    "radius = 500 # define radius\n",
    "# create URL\n",
    "url = 'https://api.foursquare.com/v2/venues/explore?&client_id={}&client_secret={}&v={}&ll={},{}&radius={}&limit={}'.format(\n",
    "    CLIENT_ID, \n",
    "    CLIENT_SECRET, \n",
    "    VERSION, \n",
    "    neighborhood_latitude, \n",
    "    neighborhood_longitude, \n",
    "    radius, \n",
    "    LIMIT)\n",
    "url # display URL"
   ]
  },
  {
   "cell_type": "code",
   "execution_count": 61,
   "metadata": {},
   "outputs": [],
   "source": [
    "# results display is hidden for report simplification \n",
    "results = requests.get(url).json()\n",
    "#results"
   ]
  },
  {
   "cell_type": "code",
   "execution_count": 62,
   "metadata": {},
   "outputs": [],
   "source": [
    "def get_category_type(row):\n",
    "    try:\n",
    "        categories_list = row['categories']\n",
    "    except:\n",
    "        categories_list = row['venue.categories']\n",
    "        \n",
    "    if len(categories_list) == 0:\n",
    "        return None\n",
    "    else:\n",
    "        return categories_list[0]['name']"
   ]
  },
  {
   "cell_type": "code",
   "execution_count": 63,
   "metadata": {},
   "outputs": [
    {
     "data": {
      "text/plain": [
       "(6, 4)"
      ]
     },
     "execution_count": 63,
     "metadata": {},
     "output_type": "execute_result"
    }
   ],
   "source": [
    "venues = results['response']['groups'][0]['items']\n",
    "SGnearby_venues = json_normalize(venues) # flatten JSON\n",
    "# filter columns\n",
    "filtered_columns = ['venue.name', 'venue.categories', 'venue.location.lat', 'venue.location.lng']\n",
    "SGnearby_venues =SGnearby_venues.loc[:, filtered_columns]\n",
    "# filter the category for each row\n",
    "SGnearby_venues['venue.categories'] = SGnearby_venues.apply(get_category_type, axis=1)\n",
    "# clean columns\n",
    "SGnearby_venues.columns = [col.split(\".\")[-1] for col in SGnearby_venues.columns]\n",
    "\n",
    "SGnearby_venues.shape"
   ]
  },
  {
   "cell_type": "code",
   "execution_count": 64,
   "metadata": {},
   "outputs": [
    {
     "data": {
      "text/html": [
       "<div>\n",
       "<style scoped>\n",
       "    .dataframe tbody tr th:only-of-type {\n",
       "        vertical-align: middle;\n",
       "    }\n",
       "\n",
       "    .dataframe tbody tr th {\n",
       "        vertical-align: top;\n",
       "    }\n",
       "\n",
       "    .dataframe thead th {\n",
       "        text-align: right;\n",
       "    }\n",
       "</style>\n",
       "<table border=\"1\" class=\"dataframe\">\n",
       "  <thead>\n",
       "    <tr style=\"text-align: right;\">\n",
       "      <th></th>\n",
       "      <th>name</th>\n",
       "      <th>categories</th>\n",
       "      <th>lat</th>\n",
       "      <th>lng</th>\n",
       "    </tr>\n",
       "  </thead>\n",
       "  <tbody>\n",
       "    <tr>\n",
       "      <td>0</td>\n",
       "      <td>Class Croute Rungis</td>\n",
       "      <td>Sandwich Place</td>\n",
       "      <td>48.746498</td>\n",
       "      <td>2.356042</td>\n",
       "    </tr>\n",
       "    <tr>\n",
       "      <td>1</td>\n",
       "      <td>Brasserie Augusta</td>\n",
       "      <td>French Restaurant</td>\n",
       "      <td>48.745302</td>\n",
       "      <td>2.357272</td>\n",
       "    </tr>\n",
       "    <tr>\n",
       "      <td>2</td>\n",
       "      <td>Safran</td>\n",
       "      <td>French Restaurant</td>\n",
       "      <td>48.747531</td>\n",
       "      <td>2.354856</td>\n",
       "    </tr>\n",
       "    <tr>\n",
       "      <td>3</td>\n",
       "      <td>Dragon Bleu</td>\n",
       "      <td>Clothing Store</td>\n",
       "      <td>48.743569</td>\n",
       "      <td>2.357812</td>\n",
       "    </tr>\n",
       "    <tr>\n",
       "      <td>4</td>\n",
       "      <td>Station Robert Schuman [T7]</td>\n",
       "      <td>Tram Station</td>\n",
       "      <td>48.746532</td>\n",
       "      <td>2.352948</td>\n",
       "    </tr>\n",
       "  </tbody>\n",
       "</table>\n",
       "</div>"
      ],
      "text/plain": [
       "                          name         categories        lat       lng\n",
       "0          Class Croute Rungis     Sandwich Place  48.746498  2.356042\n",
       "1            Brasserie Augusta  French Restaurant  48.745302  2.357272\n",
       "2                       Safran  French Restaurant  48.747531  2.354856\n",
       "3                  Dragon Bleu     Clothing Store  48.743569  2.357812\n",
       "4  Station Robert Schuman [T7]       Tram Station  48.746532  2.352948"
      ]
     },
     "execution_count": 64,
     "metadata": {},
     "output_type": "execute_result"
    }
   ],
   "source": [
    "# Venues near current Singapore residence place\n",
    "SGnearby_venues.head()"
   ]
  },
  {
   "cell_type": "code",
   "execution_count": 65,
   "metadata": {},
   "outputs": [],
   "source": [
    "latitude=25.7467796\n",
    "longitude= -80.35791434083172\n",
    "# create map of Singapore place  using latitude and longitude values\n",
    "map_sg = folium.Map(location=[latitude, longitude], zoom_start=18)"
   ]
  },
  {
   "cell_type": "code",
   "execution_count": 51,
   "metadata": {},
   "outputs": [
    {
     "data": {
      "text/html": [
       "<div style=\"width:100%;\"><div style=\"position:relative;width:100%;height:0;padding-bottom:60%;\"><iframe src=\"data:text/html;charset=utf-8;base64,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\" style=\"position:absolute;width:100%;height:100%;left:0;top:0;border:none !important;\" allowfullscreen webkitallowfullscreen mozallowfullscreen></iframe></div></div>"
      ],
      "text/plain": [
       "<folium.folium.Map at 0x2289b978940>"
      ]
     },
     "execution_count": 51,
     "metadata": {},
     "output_type": "execute_result"
    }
   ],
   "source": [
    "#add markers to map\n",
    "for lat, lng, label in zip(SGnearby_venues['lat'], SGnearby_venues['lng'], SGnearby_venues['name']):\n",
    "    label = folium.Popup(label, parse_html=True)\n",
    "    folium.RegularPolygonMarker(\n",
    "        [lat, lng],\n",
    "        number_of_sides=30,\n",
    "        radius=7,\n",
    "        popup=label,\n",
    "        color='blue',\n",
    "        fill_color='#0f0f0f',\n",
    "        fill_opacity=0.6,\n",
    "    ).add_to(map_sg)  \n",
    "    \n",
    "map_sg"
   ]
  },
  {
   "cell_type": "code",
   "execution_count": null,
   "metadata": {},
   "outputs": [],
   "source": []
  }
 ],
 "metadata": {
  "kernelspec": {
   "display_name": "Python 3",
   "language": "python",
   "name": "python3"
  },
  "language_info": {
   "codemirror_mode": {
    "name": "ipython",
    "version": 3
   },
   "file_extension": ".py",
   "mimetype": "text/x-python",
   "name": "python",
   "nbconvert_exporter": "python",
   "pygments_lexer": "ipython3",
   "version": "3.7.3"
  }
 },
 "nbformat": 4,
 "nbformat_minor": 2
}
