{
 "cells": [
  {
   "cell_type": "code",
   "execution_count": 78,
   "metadata": {},
   "outputs": [
    {
     "name": "stdout",
     "output_type": "stream",
     "text": [
      "Libraries imported.\n"
     ]
    }
   ],
   "source": [
    "import numpy as np # library to handle data in a vectorized manner\n",
    "import time\n",
    "import pandas as pd # library for data analsysis\n",
    "pd.set_option('display.max_columns', None)\n",
    "pd.set_option('display.max_rows', None)\n",
    "\n",
    "import json # library to handle JSON files\n",
    "import requests # library to handle requests\n",
    "from pandas.io.json import json_normalize # tranform JSON file into a pandas dataframe\n",
    "\n",
    "from geopy.geocoders import Nominatim # convert an address into latitude and longitude values\n",
    "\n",
    "import folium # map rendering library\n",
    "\n",
    "print('Libraries imported.')"
   ]
  },
  {
   "cell_type": "code",
   "execution_count": 89,
   "metadata": {},
   "outputs": [
    {
     "name": "stderr",
     "output_type": "stream",
     "text": [
      "C:\\Users\\Juan Raul Garcia\\Anaconda3\\lib\\site-packages\\ipykernel_launcher.py:3: DeprecationWarning: Using Nominatim with the default \"geopy/1.20.0\" `user_agent` is strongly discouraged, as it violates Nominatim's ToS https://operations.osmfoundation.org/policies/nominatim/ and may possibly cause 403 and 429 HTTP errors. Please specify a custom `user_agent` with `Nominatim(user_agent=\"my-application\")` or by overriding the default `user_agent`: `geopy.geocoders.options.default_user_agent = \"my-application\"`. In geopy 2.0 this will become an exception.\n",
      "  This is separate from the ipykernel package so we can avoid doing imports until\n"
     ]
    },
    {
     "name": "stdout",
     "output_type": "stream",
     "text": [
      "The geograpical coordinate of Miami home are 25.6792695, -80.3172743.\n"
     ]
    }
   ],
   "source": [
    "# Shenton Way, District 01, Singapore\n",
    "address = 'kendall, FL, usa'\n",
    "geolocator = Nominatim()\n",
    "location = geolocator.geocode(address)\n",
    "latitude = location.latitude\n",
    "longitude = location.longitude\n",
    "print('The geograpical coordinate of Miami home are {}, {}.'.format(latitude, longitude))"
   ]
  },
  {
   "cell_type": "code",
   "execution_count": 80,
   "metadata": {},
   "outputs": [],
   "source": [
    "neighborhood_latitude=25.679\n",
    "neighborhood_longitude=-80.3172"
   ]
  },
  {
   "cell_type": "code",
   "execution_count": 81,
   "metadata": {},
   "outputs": [
    {
     "name": "stdout",
     "output_type": "stream",
     "text": [
      "Your credentails:\n",
      "CLIENT_ID: 54GU41KXZPLVE2IUFD2TSPOJVTLCROC1VTWAEYK3YEKIBYU5\n",
      "CLIENT_SECRET:P2DVHDL0WHSWNSZHSWKJBEBZXRROKWDO2APFCQWQ1CJMFJMG\n"
     ]
    }
   ],
   "source": [
    "CLIENT_ID = '54GU41KXZPLVE2IUFD2TSPOJVTLCROC1VTWAEYK3YEKIBYU5' # your Foursquare ID\n",
    "CLIENT_SECRET = 'P2DVHDL0WHSWNSZHSWKJBEBZXRROKWDO2APFCQWQ1CJMFJMG' # your Foursquare Secret\n",
    "VERSION = '20180604'\n",
    "LIMIT = 30\n",
    "print('Your credentails:')\n",
    "print('CLIENT_ID: ' + CLIENT_ID)\n",
    "print('CLIENT_SECRET:' + CLIENT_SECRET)"
   ]
  },
  {
   "cell_type": "code",
   "execution_count": 90,
   "metadata": {},
   "outputs": [
    {
     "data": {
      "text/plain": [
       "'https://api.foursquare.com/v2/venues/explore?&client_id=54GU41KXZPLVE2IUFD2TSPOJVTLCROC1VTWAEYK3YEKIBYU5&client_secret=P2DVHDL0WHSWNSZHSWKJBEBZXRROKWDO2APFCQWQ1CJMFJMG&v=20180604&ll=25.679,-80.3172&radius=500&limit=100'"
      ]
     },
     "execution_count": 90,
     "metadata": {},
     "output_type": "execute_result"
    }
   ],
   "source": [
    "LIMIT = 100 # limit of number of venues returned by Foursquare API\n",
    "radius = 500 # define radius\n",
    "# create URL\n",
    "url = 'https://api.foursquare.com/v2/venues/explore?&client_id={}&client_secret={}&v={}&ll={},{}&radius={}&limit={}'.format(\n",
    "    CLIENT_ID, \n",
    "    CLIENT_SECRET, \n",
    "    VERSION, \n",
    "    neighborhood_latitude, \n",
    "    neighborhood_longitude, \n",
    "    radius, \n",
    "    LIMIT)\n",
    "url # display URL"
   ]
  },
  {
   "cell_type": "code",
   "execution_count": 91,
   "metadata": {},
   "outputs": [],
   "source": [
    "# results display is hidden for report simplification \n",
    "results = requests.get(url).json()\n",
    "#results"
   ]
  },
  {
   "cell_type": "code",
   "execution_count": 92,
   "metadata": {},
   "outputs": [],
   "source": [
    "def get_category_type(row):\n",
    "    try:\n",
    "        categories_list = row['categories']\n",
    "    except:\n",
    "        categories_list = row['venue.categories']\n",
    "        \n",
    "    if len(categories_list) == 0:\n",
    "        return None\n",
    "    else:\n",
    "        return categories_list[0]['name']"
   ]
  },
  {
   "cell_type": "code",
   "execution_count": 93,
   "metadata": {},
   "outputs": [
    {
     "data": {
      "text/plain": [
       "(19, 4)"
      ]
     },
     "execution_count": 93,
     "metadata": {},
     "output_type": "execute_result"
    }
   ],
   "source": [
    "venues = results['response']['groups'][0]['items']\n",
    "SGnearby_venues = json_normalize(venues) # flatten JSON\n",
    "# filter columns\n",
    "filtered_columns = ['venue.name', 'venue.categories', 'venue.location.lat', 'venue.location.lng']\n",
    "SGnearby_venues =SGnearby_venues.loc[:, filtered_columns]\n",
    "# filter the category for each row\n",
    "SGnearby_venues['venue.categories'] = SGnearby_venues.apply(get_category_type, axis=1)\n",
    "# clean columns\n",
    "SGnearby_venues.columns = [col.split(\".\")[-1] for col in SGnearby_venues.columns]\n",
    "\n",
    "SGnearby_venues.shape"
   ]
  },
  {
   "cell_type": "code",
   "execution_count": 94,
   "metadata": {},
   "outputs": [
    {
     "data": {
      "text/html": [
       "<div>\n",
       "<style scoped>\n",
       "    .dataframe tbody tr th:only-of-type {\n",
       "        vertical-align: middle;\n",
       "    }\n",
       "\n",
       "    .dataframe tbody tr th {\n",
       "        vertical-align: top;\n",
       "    }\n",
       "\n",
       "    .dataframe thead th {\n",
       "        text-align: right;\n",
       "    }\n",
       "</style>\n",
       "<table border=\"1\" class=\"dataframe\">\n",
       "  <thead>\n",
       "    <tr style=\"text-align: right;\">\n",
       "      <th></th>\n",
       "      <th>name</th>\n",
       "      <th>categories</th>\n",
       "      <th>lat</th>\n",
       "      <th>lng</th>\n",
       "    </tr>\n",
       "  </thead>\n",
       "  <tbody>\n",
       "    <tr>\n",
       "      <td>0</td>\n",
       "      <td>Captain's Tavern</td>\n",
       "      <td>Seafood Restaurant</td>\n",
       "      <td>25.680272</td>\n",
       "      <td>-80.315870</td>\n",
       "    </tr>\n",
       "    <tr>\n",
       "      <td>1</td>\n",
       "      <td>Cao Chocolates</td>\n",
       "      <td>Dessert Shop</td>\n",
       "      <td>25.679126</td>\n",
       "      <td>-80.318577</td>\n",
       "    </tr>\n",
       "    <tr>\n",
       "      <td>2</td>\n",
       "      <td>The Original Crab House</td>\n",
       "      <td>Seafood Restaurant</td>\n",
       "      <td>25.680261</td>\n",
       "      <td>-80.318687</td>\n",
       "    </tr>\n",
       "    <tr>\n",
       "      <td>3</td>\n",
       "      <td>Soccer Locker</td>\n",
       "      <td>Sporting Goods Shop</td>\n",
       "      <td>25.681310</td>\n",
       "      <td>-80.315378</td>\n",
       "    </tr>\n",
       "    <tr>\n",
       "      <td>4</td>\n",
       "      <td>Best Sub Shop</td>\n",
       "      <td>Sandwich Place</td>\n",
       "      <td>25.679354</td>\n",
       "      <td>-80.318536</td>\n",
       "    </tr>\n",
       "  </tbody>\n",
       "</table>\n",
       "</div>"
      ],
      "text/plain": [
       "                      name           categories        lat        lng\n",
       "0         Captain's Tavern   Seafood Restaurant  25.680272 -80.315870\n",
       "1           Cao Chocolates         Dessert Shop  25.679126 -80.318577\n",
       "2  The Original Crab House   Seafood Restaurant  25.680261 -80.318687\n",
       "3            Soccer Locker  Sporting Goods Shop  25.681310 -80.315378\n",
       "4            Best Sub Shop       Sandwich Place  25.679354 -80.318536"
      ]
     },
     "execution_count": 94,
     "metadata": {},
     "output_type": "execute_result"
    }
   ],
   "source": [
    "# Venues near current Singapore residence place\n",
    "SGnearby_venues.head()"
   ]
  },
  {
   "cell_type": "code",
   "execution_count": 97,
   "metadata": {},
   "outputs": [],
   "source": [
    "latitude=25.679\n",
    "longitude=-80.3172\n",
    "# create map of Singapore place  using latitude and longitude values\n",
    "map_sg = folium.Map(location=[latitude, longitude], zoom_start=18)"
   ]
  },
  {
   "cell_type": "code",
   "execution_count": 98,
   "metadata": {},
   "outputs": [
    {
     "data": {
      "text/html": [
       "<div style=\"width:100%;\"><div style=\"position:relative;width:100%;height:0;padding-bottom:60%;\"><iframe src=\"data:text/html;charset=utf-8;base64,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\" style=\"position:absolute;width:100%;height:100%;left:0;top:0;border:none !important;\" allowfullscreen webkitallowfullscreen mozallowfullscreen></iframe></div></div>"
      ],
      "text/plain": [
       "<folium.folium.Map at 0x2289b96e278>"
      ]
     },
     "execution_count": 98,
     "metadata": {},
     "output_type": "execute_result"
    }
   ],
   "source": [
    "#add markers to map\n",
    "for lat, lng, label in zip(SGnearby_venues['lat'], SGnearby_venues['lng'], SGnearby_venues['name']):\n",
    "    label = folium.Popup(label, parse_html=True)\n",
    "    folium.RegularPolygonMarker(\n",
    "        [lat, lng],\n",
    "        number_of_sides=30,\n",
    "        radius=7,\n",
    "        popup=label,\n",
    "        color='blue',\n",
    "        fill_color='#0f0f0f',\n",
    "        fill_opacity=0.6,\n",
    "    ).add_to(map_sg)  \n",
    "    \n",
    "map_sg"
   ]
  },
  {
   "cell_type": "code",
   "execution_count": null,
   "metadata": {},
   "outputs": [],
   "source": []
  }
 ],
 "metadata": {
  "kernelspec": {
   "display_name": "Python 3",
   "language": "python",
   "name": "python3"
  },
  "language_info": {
   "codemirror_mode": {
    "name": "ipython",
    "version": 3
   },
   "file_extension": ".py",
   "mimetype": "text/x-python",
   "name": "python",
   "nbconvert_exporter": "python",
   "pygments_lexer": "ipython3",
   "version": "3.7.3"
  }
 },
 "nbformat": 4,
 "nbformat_minor": 2
}
