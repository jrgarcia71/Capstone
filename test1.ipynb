{
 "cells": [
  {
   "cell_type": "code",
   "execution_count": 5,
   "metadata": {},
   "outputs": [],
   "source": [
    "# Capstone: Look for a place to a new business in Toronto \n",
    "#\n",
    "#\n",
    "## Business case:\n",
    "#\n",
    "### A group of friends want to open a new market place. The market will sell all kind of things and food to restaurants, from cultlery and napkins to fresh food and vegetables.\n",
    "### The store must be located near to a restaurant zone for easy come and easy delivery.\n",
    "#\n",
    "## The problem: \n",
    "### Where must be locate the new store? \n",
    "### How to know the location is good for theese kind of business?\n",
    "#\n",
    "## The solution:\n",
    "### Using Data science to know the correct neighborhood, near to the restaurants.\n",
    "### Social and economic situation of the people of the chossen neighborhood.\n",
    "#\n",
    "#\n",
    "#\n",
    "## The data needed:\n",
    "#\n",
    "### - The neighborhoods and the respective postal code\n",
    "### - The population of each neighborhood\n",
    "### - The neighborhhod income after tax\n",
    "### - Using foursquare to obtain the list of restuarants"
   ]
  },
  {
   "cell_type": "code",
   "execution_count": null,
   "metadata": {},
   "outputs": [],
   "source": []
  },
  {
   "cell_type": "markdown",
   "metadata": {},
   "source": []
  }
 ],
 "metadata": {
  "kernelspec": {
   "display_name": "Python 3",
   "language": "python",
   "name": "python3"
  },
  "language_info": {
   "codemirror_mode": {
    "name": "ipython",
    "version": 3
   },
   "file_extension": ".py",
   "mimetype": "text/x-python",
   "name": "python",
   "nbconvert_exporter": "python",
   "pygments_lexer": "ipython3",
   "version": "3.7.3"
  }
 },
 "nbformat": 4,
 "nbformat_minor": 2
}
